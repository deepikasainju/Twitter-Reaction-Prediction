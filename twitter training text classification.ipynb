{
 "cells": [
  {
   "cell_type": "code",
   "execution_count": 1,
   "id": "5c573337",
   "metadata": {},
   "outputs": [
    {
     "name": "stderr",
     "output_type": "stream",
     "text": [
      "[nltk_data] Downloading package stopwords to\n",
      "[nltk_data]     C:\\Users\\Dell\\AppData\\Roaming\\nltk_data...\n",
      "[nltk_data]   Package stopwords is already up-to-date!\n",
      "UsageError: unrecognized arguments: # for designs\n"
     ]
    }
   ],
   "source": [
    "import numpy as np\n",
    "import pandas as pd\n",
    "import re,string    # re=regular expression, special character haru hatauna kaam lagxa\n",
    "import matplotlib.pyplot as plt\n",
    "from nltk.corpus import stopwords  # sentence ma navaye pani meaning dine\n",
    "from nltk.stem import PorterStemmer  # porterstremmer= root word find garxa, example: root word of dancing is dance\n",
    "from sklearn.feature_extraction.text import TfidfVectorizer   \n",
    "# vayeko sabai word lai number ma convert garera vector ma convert garna use hunxa\n",
    "# each and every word lai token(number) ma convert garxa\n",
    "\n",
    "from sklearn.pipeline import Pipeline  # algorithm apply kun kun process bata pass huna parxa\n",
    "from sklearn.metrics import classification_report, confusion_matrix \n",
    "# confusion-matrix= model ley kati ko correctly classify gareko xa vanne thapauna help garxa\n",
    "\n",
    "from sklearn.model_selection import train_test_split\n",
    "from sklearn.feature_selection import SelectKBest, chi2  \n",
    "# selectKbest= k words line or select garera algorithm lagaune\n",
    "# chi2= chi square test to check accuracy\n",
    "\n",
    "import pickle\n",
    "import nltk\n",
    "nltk.download('stopwords')\n",
    "%matplotlib inline  # for designs"
   ]
  },
  {
   "cell_type": "code",
   "execution_count": 2,
   "id": "ddf18e76",
   "metadata": {},
   "outputs": [
    {
     "data": {
      "text/html": [
       "<div>\n",
       "<style scoped>\n",
       "    .dataframe tbody tr th:only-of-type {\n",
       "        vertical-align: middle;\n",
       "    }\n",
       "\n",
       "    .dataframe tbody tr th {\n",
       "        vertical-align: top;\n",
       "    }\n",
       "\n",
       "    .dataframe thead th {\n",
       "        text-align: right;\n",
       "    }\n",
       "</style>\n",
       "<table border=\"1\" class=\"dataframe\">\n",
       "  <thead>\n",
       "    <tr style=\"text-align: right;\">\n",
       "      <th></th>\n",
       "      <th>Reaction</th>\n",
       "      <th>Review</th>\n",
       "    </tr>\n",
       "  </thead>\n",
       "  <tbody>\n",
       "    <tr>\n",
       "      <th>0</th>\n",
       "      <td>Positive</td>\n",
       "      <td>im getting on borderlands and i will murder yo...</td>\n",
       "    </tr>\n",
       "    <tr>\n",
       "      <th>1</th>\n",
       "      <td>Positive</td>\n",
       "      <td>I am coming to the borders and I will kill you...</td>\n",
       "    </tr>\n",
       "    <tr>\n",
       "      <th>2</th>\n",
       "      <td>Positive</td>\n",
       "      <td>im getting on borderlands and i will kill you ...</td>\n",
       "    </tr>\n",
       "    <tr>\n",
       "      <th>3</th>\n",
       "      <td>Positive</td>\n",
       "      <td>im coming on borderlands and i will murder you...</td>\n",
       "    </tr>\n",
       "    <tr>\n",
       "      <th>4</th>\n",
       "      <td>Positive</td>\n",
       "      <td>im getting on borderlands 2 and i will murder ...</td>\n",
       "    </tr>\n",
       "    <tr>\n",
       "      <th>...</th>\n",
       "      <td>...</td>\n",
       "      <td>...</td>\n",
       "    </tr>\n",
       "    <tr>\n",
       "      <th>74677</th>\n",
       "      <td>Positive</td>\n",
       "      <td>Just realized that the Windows partition of my...</td>\n",
       "    </tr>\n",
       "    <tr>\n",
       "      <th>74678</th>\n",
       "      <td>Positive</td>\n",
       "      <td>Just realized that my Mac window partition is ...</td>\n",
       "    </tr>\n",
       "    <tr>\n",
       "      <th>74679</th>\n",
       "      <td>Positive</td>\n",
       "      <td>Just realized the windows partition of my Mac ...</td>\n",
       "    </tr>\n",
       "    <tr>\n",
       "      <th>74680</th>\n",
       "      <td>Positive</td>\n",
       "      <td>Just realized between the windows partition of...</td>\n",
       "    </tr>\n",
       "    <tr>\n",
       "      <th>74681</th>\n",
       "      <td>Positive</td>\n",
       "      <td>Just like the windows partition of my Mac is l...</td>\n",
       "    </tr>\n",
       "  </tbody>\n",
       "</table>\n",
       "<p>74682 rows × 2 columns</p>\n",
       "</div>"
      ],
      "text/plain": [
       "       Reaction                                             Review\n",
       "0      Positive  im getting on borderlands and i will murder yo...\n",
       "1      Positive  I am coming to the borders and I will kill you...\n",
       "2      Positive  im getting on borderlands and i will kill you ...\n",
       "3      Positive  im coming on borderlands and i will murder you...\n",
       "4      Positive  im getting on borderlands 2 and i will murder ...\n",
       "...         ...                                                ...\n",
       "74677  Positive  Just realized that the Windows partition of my...\n",
       "74678  Positive  Just realized that my Mac window partition is ...\n",
       "74679  Positive  Just realized the windows partition of my Mac ...\n",
       "74680  Positive  Just realized between the windows partition of...\n",
       "74681  Positive  Just like the windows partition of my Mac is l...\n",
       "\n",
       "[74682 rows x 2 columns]"
      ]
     },
     "execution_count": 2,
     "metadata": {},
     "output_type": "execute_result"
    }
   ],
   "source": [
    "df = pd.read_csv('twitter_training.csv', encoding = 'latin1',usecols=['Reaction','Review'])\n",
    "df = df.sample(frac = 1)\n",
    "sdf=df.sort_index()\n",
    "sdf"
   ]
  },
  {
   "cell_type": "code",
   "execution_count": 3,
   "id": "258f7119",
   "metadata": {},
   "outputs": [
    {
     "data": {
      "text/plain": [
       "686"
      ]
     },
     "execution_count": 3,
     "metadata": {},
     "output_type": "execute_result"
    }
   ],
   "source": [
    "sdf.isnull().sum().values.sum()"
   ]
  },
  {
   "cell_type": "code",
   "execution_count": 4,
   "id": "0c13bba6",
   "metadata": {},
   "outputs": [],
   "source": [
    "sdf=sdf.dropna()"
   ]
  },
  {
   "cell_type": "code",
   "execution_count": 5,
   "id": "3b887269",
   "metadata": {},
   "outputs": [
    {
     "data": {
      "text/plain": [
       "Reaction    0\n",
       "Review      0\n",
       "dtype: int64"
      ]
     },
     "execution_count": 5,
     "metadata": {},
     "output_type": "execute_result"
    }
   ],
   "source": [
    "sdf.isna().sum()"
   ]
  },
  {
   "cell_type": "code",
   "execution_count": 6,
   "id": "3b487bc1",
   "metadata": {},
   "outputs": [
    {
     "name": "stdout",
     "output_type": "stream",
     "text": [
      "{'Neutral', 'Positive', 'Negative', 'Irrelevant'}\n"
     ]
    },
    {
     "data": {
      "text/plain": [
       "4"
      ]
     },
     "execution_count": 6,
     "metadata": {},
     "output_type": "execute_result"
    }
   ],
   "source": [
    "print(set(sdf['Reaction']))\n",
    "len(set(sdf['Reaction']))\n"
   ]
  },
  {
   "cell_type": "code",
   "execution_count": 7,
   "id": "b087bde1",
   "metadata": {},
   "outputs": [
    {
     "data": {
      "text/plain": [
       "Reaction\n",
       "Irrelevant    12875\n",
       "Negative      22358\n",
       "Neutral       18108\n",
       "Positive      20655\n",
       "Name: Reaction, dtype: int64"
      ]
     },
     "execution_count": 7,
     "metadata": {},
     "output_type": "execute_result"
    }
   ],
   "source": [
    "sdf.groupby('Reaction').Reaction.count()"
   ]
  },
  {
   "cell_type": "code",
   "execution_count": 8,
   "id": "c2d752d4",
   "metadata": {},
   "outputs": [
    {
     "data": {
      "image/png": "[encoded data removed]",
      "text/plain": [
       "<Figure size 640x480 with 1 Axes>"
      ]
     },
     "metadata": {},
     "output_type": "display_data"
    }
   ],
   "source": [
    "sdf.groupby('Reaction').Reaction.count().plot.bar()\n",
    "plt.show()"
   ]
  },
  {
   "cell_type": "code",
   "execution_count": 9,
   "id": "6dcaea65",
   "metadata": {},
   "outputs": [
    {
     "name": "stdout",
     "output_type": "stream",
     "text": [
      "['i', 'me', 'my', 'myself', 'we', 'our', 'ours', 'ourselves', 'you', \"you're\", \"you've\", \"you'll\", \"you'd\", 'your', 'yours', 'yourself', 'yourselves', 'he', 'him', 'his', 'himself', 'she', \"she's\", 'her', 'hers', 'herself', 'it', \"it's\", 'its', 'itself', 'they', 'them', 'their', 'theirs', 'themselves', 'what', 'which', 'who', 'whom', 'this', 'that', \"that'll\", 'these', 'those', 'am', 'is', 'are', 'was', 'were', 'be', 'been', 'being', 'have', 'has', 'had', 'having', 'do', 'does', 'did', 'doing', 'a', 'an', 'the', 'and', 'but', 'if', 'or', 'because', 'as', 'until', 'while', 'of', 'at', 'by', 'for', 'with', 'about', 'against', 'between', 'into', 'through', 'during', 'before', 'after', 'above', 'below', 'to', 'from', 'up', 'down', 'in', 'out', 'on', 'off', 'over', 'under', 'again', 'further', 'then', 'once', 'here', 'there', 'when', 'where', 'why', 'how', 'all', 'any', 'both', 'each', 'few', 'more', 'most', 'other', 'some', 'such', 'no', 'nor', 'not', 'only', 'own', 'same', 'so', 'than', 'too', 'very', 's', 't', 'can', 'will', 'just', 'don', \"don't\", 'should', \"should've\", 'now', 'd', 'll', 'm', 'o', 're', 've', 'y', 'ain', 'aren', \"aren't\", 'couldn', \"couldn't\", 'didn', \"didn't\", 'doesn', \"doesn't\", 'hadn', \"hadn't\", 'hasn', \"hasn't\", 'haven', \"haven't\", 'isn', \"isn't\", 'ma', 'mightn', \"mightn't\", 'mustn', \"mustn't\", 'needn', \"needn't\", 'shan', \"shan't\", 'shouldn', \"shouldn't\", 'wasn', \"wasn't\", 'weren', \"weren't\", 'won', \"won't\", 'wouldn', \"wouldn't\"]\n"
     ]
    },
    {
     "name": "stderr",
     "output_type": "stream",
     "text": [
      "[nltk_data] Downloading package stopwords to\n",
      "[nltk_data]     C:\\Users\\Dell\\AppData\\Roaming\\nltk_data...\n",
      "[nltk_data]   Package stopwords is already up-to-date!\n"
     ]
    }
   ],
   "source": [
    "#stop words\n",
    "nltk.download('stopwords')\n",
    "words = stopwords.words(\"english\")\n",
    "print(words)"
   ]
  },
  {
   "cell_type": "code",
   "execution_count": 10,
   "id": "2feb946c",
   "metadata": {},
   "outputs": [
    {
     "name": "stderr",
     "output_type": "stream",
     "text": [
      "C:\\Users\\Dell\\AppData\\Local\\Temp\\ipykernel_15804\\139065922.py:1: SettingWithCopyWarning: \n",
      "A value is trying to be set on a copy of a slice from a DataFrame.\n",
      "Try using .loc[row_indexer,col_indexer] = value instead\n",
      "\n",
      "See the caveats in the documentation: https://pandas.pydata.org/pandas-docs/stable/user_guide/indexing.html#returning-a-view-versus-a-copy\n",
      "  sdf['Review'] = [re.sub(\"[^a-zA-Z]\", \" \", i).lower() for i in sdf['Review']]\n",
      "C:\\Users\\Dell\\AppData\\Local\\Temp\\ipykernel_15804\\139065922.py:2: SettingWithCopyWarning: \n",
      "A value is trying to be set on a copy of a slice from a DataFrame.\n",
      "Try using .loc[row_indexer,col_indexer] = value instead\n",
      "\n",
      "See the caveats in the documentation: https://pandas.pydata.org/pandas-docs/stable/user_guide/indexing.html#returning-a-view-versus-a-copy\n",
      "  sdf['Review']= list(map(lambda x: \" \".join([i for i in x.lower().split() if i not in words]), sdf['Review']))\n"
     ]
    }
   ],
   "source": [
    "sdf['Review'] = [re.sub(\"[^a-zA-Z]\", \" \", i).lower() for i in sdf['Review']]\n",
    "sdf['Review']= list(map(lambda x: \" \".join([i for i in x.lower().split() if i not in words]), sdf['Review']))"
   ]
  },
  {
   "cell_type": "code",
   "execution_count": 11,
   "id": "b03be2ae",
   "metadata": {},
   "outputs": [
    {
     "data": {
      "text/html": [
       "<div>\n",
       "<style scoped>\n",
       "    .dataframe tbody tr th:only-of-type {\n",
       "        vertical-align: middle;\n",
       "    }\n",
       "\n",
       "    .dataframe tbody tr th {\n",
       "        vertical-align: top;\n",
       "    }\n",
       "\n",
       "    .dataframe thead th {\n",
       "        text-align: right;\n",
       "    }\n",
       "</style>\n",
       "<table border=\"1\" class=\"dataframe\">\n",
       "  <thead>\n",
       "    <tr style=\"text-align: right;\">\n",
       "      <th></th>\n",
       "      <th>Reaction</th>\n",
       "      <th>Review</th>\n",
       "    </tr>\n",
       "  </thead>\n",
       "  <tbody>\n",
       "    <tr>\n",
       "      <th>0</th>\n",
       "      <td>Positive</td>\n",
       "      <td>im getting borderlands murder</td>\n",
       "    </tr>\n",
       "    <tr>\n",
       "      <th>1</th>\n",
       "      <td>Positive</td>\n",
       "      <td>coming borders kill</td>\n",
       "    </tr>\n",
       "    <tr>\n",
       "      <th>2</th>\n",
       "      <td>Positive</td>\n",
       "      <td>im getting borderlands kill</td>\n",
       "    </tr>\n",
       "    <tr>\n",
       "      <th>3</th>\n",
       "      <td>Positive</td>\n",
       "      <td>im coming borderlands murder</td>\n",
       "    </tr>\n",
       "    <tr>\n",
       "      <th>4</th>\n",
       "      <td>Positive</td>\n",
       "      <td>im getting borderlands murder</td>\n",
       "    </tr>\n",
       "    <tr>\n",
       "      <th>...</th>\n",
       "      <td>...</td>\n",
       "      <td>...</td>\n",
       "    </tr>\n",
       "    <tr>\n",
       "      <th>74677</th>\n",
       "      <td>Positive</td>\n",
       "      <td>realized windows partition mac like years behi...</td>\n",
       "    </tr>\n",
       "    <tr>\n",
       "      <th>74678</th>\n",
       "      <td>Positive</td>\n",
       "      <td>realized mac window partition years behind nvi...</td>\n",
       "    </tr>\n",
       "    <tr>\n",
       "      <th>74679</th>\n",
       "      <td>Positive</td>\n",
       "      <td>realized windows partition mac years behind nv...</td>\n",
       "    </tr>\n",
       "    <tr>\n",
       "      <th>74680</th>\n",
       "      <td>Positive</td>\n",
       "      <td>realized windows partition mac like years behi...</td>\n",
       "    </tr>\n",
       "    <tr>\n",
       "      <th>74681</th>\n",
       "      <td>Positive</td>\n",
       "      <td>like windows partition mac like years behind d...</td>\n",
       "    </tr>\n",
       "  </tbody>\n",
       "</table>\n",
       "<p>73996 rows × 2 columns</p>\n",
       "</div>"
      ],
      "text/plain": [
       "       Reaction                                             Review\n",
       "0      Positive                      im getting borderlands murder\n",
       "1      Positive                                coming borders kill\n",
       "2      Positive                        im getting borderlands kill\n",
       "3      Positive                       im coming borderlands murder\n",
       "4      Positive                      im getting borderlands murder\n",
       "...         ...                                                ...\n",
       "74677  Positive  realized windows partition mac like years behi...\n",
       "74678  Positive  realized mac window partition years behind nvi...\n",
       "74679  Positive  realized windows partition mac years behind nv...\n",
       "74680  Positive  realized windows partition mac like years behi...\n",
       "74681  Positive  like windows partition mac like years behind d...\n",
       "\n",
       "[73996 rows x 2 columns]"
      ]
     },
     "execution_count": 11,
     "metadata": {},
     "output_type": "execute_result"
    }
   ],
   "source": [
    "sdf"
   ]
  },
  {
   "cell_type": "code",
   "execution_count": 32,
   "id": "4f908bfd",
   "metadata": {},
   "outputs": [],
   "source": [
    "sdf.to_csv('cleaned_twitter_data.csv')"
   ]
  },
  {
   "cell_type": "code",
   "execution_count": 12,
   "id": "8b7f039c",
   "metadata": {},
   "outputs": [],
   "source": [
    "from sklearn.linear_model import LogisticRegression\n",
    "log_regression = LogisticRegression()\n",
    "\n",
    "vectorizer = TfidfVectorizer() \n",
    "X = sdf['Review'] #indepedent \n",
    "Y = sdf['Reaction'] #dependent\n",
    "\n",
    "X_train, X_test, Y_train, Y_test = train_test_split(X, Y, test_size=0.15) \n",
    "\n",
    "# #Creating Pipeline\n",
    "pipeline = Pipeline([('vect', vectorizer), \n",
    "                     ('chi',  SelectKBest(chi2, k=2000)), \n",
    "                     ('clf', LogisticRegression(random_state=1,max_iter=1000))]) \n",
    "\n",
    "\n",
    "model = pipeline.fit(X_train, Y_train)"
   ]
  },
  {
   "cell_type": "code",
   "execution_count": 13,
   "id": "d3675f35",
   "metadata": {},
   "outputs": [
    {
     "data": {
      "text/plain": [
       "4833                             thanks correction emailed\n",
       "53892    shit coming like call duty zombies mf said sec...\n",
       "32157                          grinding twitch tv krrnster\n",
       "49350          fifa makes barca black gold kit look boring\n",
       "66727    johnson johnson temporarily halted covid vacci...\n",
       "                               ...                        \n",
       "39900    ban battlefield player ohnothelag occurred see...\n",
       "71662            even see problem breakpoint simply loving\n",
       "59878    back later cause know upset sad evan vlad some...\n",
       "44777    verizon restaurant college phone plan means re...\n",
       "50142    caught presser late someone please assist chai...\n",
       "Name: Review, Length: 11100, dtype: object"
      ]
     },
     "execution_count": 13,
     "metadata": {},
     "output_type": "execute_result"
    }
   ],
   "source": [
    "X_test"
   ]
  },
  {
   "cell_type": "code",
   "execution_count": 14,
   "id": "5427bbe9",
   "metadata": {},
   "outputs": [
    {
     "name": "stdout",
     "output_type": "stream",
     "text": [
      "0.6273873873873874\n"
     ]
    }
   ],
   "source": [
    "from sklearn.metrics import accuracy_score\n",
    "predict_review_cat = model.predict(X_test) \n",
    "print(accuracy_score(Y_test,predict_review_cat))"
   ]
  },
  {
   "cell_type": "code",
   "execution_count": 15,
   "id": "49806c8f",
   "metadata": {},
   "outputs": [
    {
     "name": "stdout",
     "output_type": "stream",
     "text": [
      "Enter review = im getting borderlands murder\n",
      "Predicted review reaction =  Positive\n"
     ]
    }
   ],
   "source": [
    "review = input(\"Enter review = \")\n",
    "review_data = {'predict_review':[review]} \n",
    "review_data_df = pd.DataFrame(review_data) \n",
    "predict_review_cat = model.predict(review_data_df['predict_review'])\n",
    "print(\"Predicted review reaction = \",predict_review_cat[0])"
   ]
  },
  {
   "cell_type": "code",
   "execution_count": 16,
   "id": "4a75657b",
   "metadata": {},
   "outputs": [
    {
     "name": "stdout",
     "output_type": "stream",
     "text": [
      "              precision    recall  f1-score   support\n",
      "\n",
      "  Irrelevant       0.67      0.44      0.53      1964\n",
      "    Negative       0.66      0.73      0.69      3322\n",
      "     Neutral       0.55      0.59      0.57      2689\n",
      "    Positive       0.63      0.67      0.65      3125\n",
      "\n",
      "    accuracy                           0.63     11100\n",
      "   macro avg       0.63      0.61      0.61     11100\n",
      "weighted avg       0.63      0.63      0.62     11100\n",
      "\n",
      "[[ 868  112  171  140]\n",
      " [ 325 2423  506  401]\n",
      " [ 339  443 1588  499]\n",
      " [ 432  344  424 2085]]\n"
     ]
    }
   ],
   "source": [
    "from sklearn.metrics import classification_report, confusion_matrix \n",
    "ytest = np.array(Y_test)\n",
    "print(classification_report(ytest,model.predict(X_test))) \n",
    "print(confusion_matrix(model.predict(X_test),Y_test))"
   ]
  },
  {
   "cell_type": "code",
   "execution_count": 17,
   "id": "65cd149b",
   "metadata": {},
   "outputs": [
    {
     "data": {
      "image/png": "[encoded data removed]",
      "text/plain": [
       "<Figure size 800x800 with 2 Axes>"
      ]
     },
     "metadata": {},
     "output_type": "display_data"
    }
   ],
   "source": [
    "import matplotlib.pyplot as plt\n",
    "from sklearn.metrics import ConfusionMatrixDisplay\n",
    "cm = confusion_matrix(model.predict(X_test),Y_test)\n",
    "fig, ax = plt.subplots(figsize=(8,8), dpi=100)\n",
    "class_names = ['Positive','Negative','Neutral','Irrelevant']\n",
    "display = ConfusionMatrixDisplay(cm, display_labels=class_names)\n",
    "ax.set(title='Confusion Matrix for the Text Classification Model of twitter training')\n",
    "display.plot(ax=ax);"
   ]
  },
  {
   "cell_type": "markdown",
   "id": "38f18622",
   "metadata": {},
   "source": [
    "# Observation\n",
    "Hence, logistic regression ml algorithm is not really suitable for this dataset since there is only 62.5% accuracy"
   ]
  },
  {
   "cell_type": "code",
   "execution_count": null,
   "id": "0175ecab",
   "metadata": {},
   "outputs": [],
   "source": []
  }
 ],
 "metadata": {
  "kernelspec": {
   "display_name": "Python 3 (ipykernel)",
   "language": "python",
   "name": "python3"
  },
  "language_info": {
   "codemirror_mode": {
    "name": "ipython",
    "version": 3
   },
   "file_extension": ".py",
   "mimetype": "text/x-python",
   "name": "python",
   "nbconvert_exporter": "python",
   "pygments_lexer": "ipython3",
   "version": "3.11.4"
  }
 },
 "nbformat": 4,
 "nbformat_minor": 5
}
